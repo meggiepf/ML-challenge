{
 "cells": [
  {
   "cell_type": "code",
   "execution_count": null,
   "metadata": {},
   "outputs": [],
   "source": [
    "import numpy as np\n",
    "import pandas as pd\n",
    "from pathlib import Path"
   ]
  },
  {
   "cell_type": "code",
   "execution_count": null,
   "metadata": {},
   "outputs": [],
   "source": [
    "train_df = pd.read_csv(Path('Resources/2019loans.csv'))\n",
    "test_df = pd.read_csv(Path('Resources/2020Q1loans.csv'))"
   ]
  },
  {
   "cell_type": "code",
   "execution_count": null,
   "metadata": {},
   "outputs": [],
   "source": [
    "# Convert categorical data to numeric and separate target feature for training data\n",
    "\n",
    "YesNo = {'Y':1,'N':0}\n",
    "train_df2 = train_df.replace({'hardship_flag':YesNo, 'debt_settlement_flag':YesNo})\n",
    "HomeOwner = {'ANY':0,'RENT':1,'MORTGAGE':2,'OWN':3}\n",
    "train_df3 = train_df2.replace({'home_ownership':HomeOwner})\n",
    "verification_dict = {'Not Verified':0,'Source Verified':1,'Verified':1}\n",
    "train_df4 = train_df3.replace({'verification_status':verification_dict})\n",
    "LoanStatus = {'low_risk':1,'high_risk':0}\n",
    "train_df5 = train_df4.replace({'loan_status':LoanStatus})\n",
    "InitialStatus = {'w':0,'f':1}\n",
    "train_df6 = train_df5.replace({'initial_list_status':InitialStatus})\n",
    "ApplicationType = {'Individual':1,'Joint App':0}\n",
    "\n",
    "train_df8 = train_df7.drop(['index','pymnt_plan'],axis='columns')\n",
    "\n",
    "file_path = Path('Resources/cleaned_2019_credit_data.csv')\n",
    "train_df8.to_csv(file_path, index=False)\n",
    "\n",
    "train_df9 = train_df8.drop(['Unnamed: 0'],axis='columns')\n",
    "train_df9.head()\n",
    "\n",
    "X_train = train_df9.drop('loan_status', axis=1)\n",
    "y_train = train_df9['loan_status'].values\n",
    "print(X_train.select_dtypes(include=[object]))"
   ]
  },
  {
   "cell_type": "code",
   "execution_count": null,
   "metadata": {},
   "outputs": [],
   "source": [
    "# Convert categorical data to numeric and separate target feature for testing data\n",
    "test_df2 = test_df.replace({'hardship_flag':YesNo, 'debt_settlement_flag':YesNo})\n",
    "test_df3 = test_df2.replace({'home_ownership':HomeOwnership})\n",
    "test_df4 = test_df3.replace({'verification_status':verification_dict})\n",
    "test_df5 = test_df4.replace({'loan_status':LoanStatus})\n",
    "test_df6 = test_df5.replace({'initial_list_status':InitialList})\n",
    "test_df7 = test_df6.replace({'application_type':ApplicationType})\n",
    "\n",
    "test_df8 = test_df7.drop(['index','pymnt_plan'],axis='columns')\n",
    "\n",
    "file_path = Path('Resources/cleaned_2020_credit_data.csv')\n",
    "test_df8.to_csv(file_path, index=False)\n",
    "\n",
    "test_df9 = test_df8.drop(['Unnamed: 0'],axis='columns')\n",
    "test_df9.head()"
   ]
  },
  {
   "cell_type": "code",
   "execution_count": null,
   "metadata": {},
   "outputs": [],
   "source": [
    "# add missing dummy variables to testing set\n",
    "test_df10 = pd.get_dummies(test_df9)\n",
    "\n",
    "X_test = test_df10.drop('loan_status', axis=1)\n",
    "y_test = test_df10['loan_status'].values"
   ]
  },
  {
   "cell_type": "code",
   "execution_count": null,
   "metadata": {},
   "outputs": [],
   "source": [
    "# Train the Logistic Regression model on the unscaled data and print the model score\n",
    "from sklearn.linear_model import LogisticRegression\n",
    "classifier = LogisticRegression(solver='lbfgs',max_iter=200)\n",
    "classifier.fit(X_train, y_train)\n",
    "print(f\"Training Data Score: {classifier.score(X_train, y_train)}\")\n",
    "print(f\"Testing Data Score: {classifier.score(X_test, y_test)}\")"
   ]
  },
  {
   "cell_type": "code",
   "execution_count": null,
   "metadata": {},
   "outputs": [],
   "source": [
    "# Train a Random Forest Classifier model and print the model score\n",
    "from sklearn.ensemble import RandomForestClassifier\n",
    "\n",
    "clf = RandomForestClassifier(random_state=1, n_estimators=500).fit(X_train, y_train)\n",
    "print(f'Training Score: {clf.score(X_train, y_train)}')\n",
    "print(f'Testing Score: {clf.score(X_test, y_test)}')"
   ]
  },
  {
   "cell_type": "code",
   "execution_count": null,
   "metadata": {},
   "outputs": [],
   "source": [
    "# Scale the data\n",
    "from sklearn.preprocessing import StandardScaler\n",
    "scaler = StandardScaler()\n",
    "X_train_scaled = scaler.fit_transform(X_train)\n",
    "X_test_scaled = scaler.fit_transform(X_test)"
   ]
  },
  {
   "cell_type": "code",
   "execution_count": null,
   "metadata": {},
   "outputs": [],
   "source": [
    "# Train the Logistic Regression model on the scaled data and print the model score\n",
    "classifier.fit(X_train_scaled, y_train)\n",
    "print(f\"Training Data Score: {classifier.score(X_train_scaled, y_train)}\")\n",
    "print(f\"Testing Data Score: {classifier.score(X_test_scaled, y_test)}\")"
   ]
  },
  {
   "cell_type": "code",
   "execution_count": null,
   "metadata": {},
   "outputs": [],
   "source": [
    "# Train a Random Forest Classifier model on the scaled data and print the model score\n",
    "print(f'Testing Score: {clf.score(X_test_scaled, y_test)}')"
   ]
  }
 ],
 "metadata": {
  "kernelspec": {
   "display_name": "Python 3",
   "language": "python",
   "name": "python3"
  },
  "language_info": {
   "codemirror_mode": {
    "name": "ipython",
    "version": 3
   },
   "file_extension": ".py",
   "mimetype": "text/x-python",
   "name": "python",
   "nbconvert_exporter": "python",
   "pygments_lexer": "ipython3",
   "version": "3.8.8"
  }
 },
 "nbformat": 4,
 "nbformat_minor": 4
}
